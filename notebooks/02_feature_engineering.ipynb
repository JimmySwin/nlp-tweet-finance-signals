{
 "cells": [
  {
   "cell_type": "markdown",
   "id": "b1afcd18",
   "metadata": {},
   "source": [
    "# NLP features (sentiment, length, etc.)"
   ]
  },
  {
   "cell_type": "code",
   "execution_count": 14,
   "id": "4413a7f4",
   "metadata": {},
   "outputs": [],
   "source": [
    "#Import the saved cleaned data \n",
    "import pandas as pd\n",
    "\n",
    "df = pd.read_csv(\"../data/processed/cleaned.csv\")\n"
   ]
  },
  {
   "cell_type": "code",
   "execution_count": 15,
   "id": "d2fe8a85",
   "metadata": {},
   "outputs": [],
   "source": [
    "# Only needed if src isn't being found (depends on your VSCode setup)\n",
    "import sys\n",
    "sys.path.append(\"..\")  # Go one directory up so Python sees \"src\" folder\n",
    "\n",
    "# Imports\n",
    "from src.features.basic_features import (\n",
    "    add_char_count,\n",
    "    add_has_tsla,\n",
    "    add_has_emoji,\n",
    "    add_exclam_count,\n",
    "    add_is_reply\n",
    ")\n"
   ]
  },
  {
   "cell_type": "code",
   "execution_count": 16,
   "id": "f1c6a741",
   "metadata": {},
   "outputs": [
    {
     "name": "stderr",
     "output_type": "stream",
     "text": [
      "/home/james/finance_job/NLP_market_reaction/src/features/basic_features.py:10: UserWarning: This pattern is interpreted as a regular expression, and has match groups. To actually get the groups, use str.extract.\n",
      "  df[\"has_tsla\"] = df[\"text\"].str.contains(pattern, case=False, regex=True).astype(int)\n"
     ]
    }
   ],
   "source": [
    "#apply the imported features to the data frame\n",
    "\n",
    "features_df = df.copy()\n",
    "features_df = add_char_count(features_df)\n",
    "features_df = add_has_tsla(features_df)\n",
    "features_df = add_has_emoji(features_df)\n",
    "features_df = add_exclam_count(features_df)\n",
    "features_df = add_is_reply(features_df)\n"
   ]
  },
  {
   "cell_type": "code",
   "execution_count": 18,
   "id": "8494e1bd",
   "metadata": {},
   "outputs": [
    {
     "data": {
      "text/html": [
       "<div>\n",
       "<style scoped>\n",
       "    .dataframe tbody tr th:only-of-type {\n",
       "        vertical-align: middle;\n",
       "    }\n",
       "\n",
       "    .dataframe tbody tr th {\n",
       "        vertical-align: top;\n",
       "    }\n",
       "\n",
       "    .dataframe thead th {\n",
       "        text-align: right;\n",
       "    }\n",
       "</style>\n",
       "<table border=\"1\" class=\"dataframe\">\n",
       "  <thead>\n",
       "    <tr style=\"text-align: right;\">\n",
       "      <th></th>\n",
       "      <th>text</th>\n",
       "      <th>char_count</th>\n",
       "      <th>has_tsla</th>\n",
       "      <th>has_emoji</th>\n",
       "      <th>exclam_count</th>\n",
       "      <th>is_reply</th>\n",
       "    </tr>\n",
       "  </thead>\n",
       "  <tbody>\n",
       "    <tr>\n",
       "      <th>0</th>\n",
       "      <td>@BillyM2k I find the gold toe sock – inevitabl...</td>\n",
       "      <td>136</td>\n",
       "      <td>0</td>\n",
       "      <td>0</td>\n",
       "      <td>0</td>\n",
       "      <td>1</td>\n",
       "    </tr>\n",
       "    <tr>\n",
       "      <th>1</th>\n",
       "      <td>Sock Con, the conference for socks</td>\n",
       "      <td>34</td>\n",
       "      <td>0</td>\n",
       "      <td>0</td>\n",
       "      <td>0</td>\n",
       "      <td>0</td>\n",
       "    </tr>\n",
       "    <tr>\n",
       "      <th>2</th>\n",
       "      <td>Always something new for the magazine cover an...</td>\n",
       "      <td>89</td>\n",
       "      <td>0</td>\n",
       "      <td>0</td>\n",
       "      <td>0</td>\n",
       "      <td>0</td>\n",
       "    </tr>\n",
       "    <tr>\n",
       "      <th>3</th>\n",
       "      <td>@ExplainThisBob This guy gets it</td>\n",
       "      <td>32</td>\n",
       "      <td>0</td>\n",
       "      <td>0</td>\n",
       "      <td>0</td>\n",
       "      <td>1</td>\n",
       "    </tr>\n",
       "    <tr>\n",
       "      <th>4</th>\n",
       "      <td>Sock tech is so advanced that you can get pret...</td>\n",
       "      <td>87</td>\n",
       "      <td>0</td>\n",
       "      <td>0</td>\n",
       "      <td>1</td>\n",
       "      <td>0</td>\n",
       "    </tr>\n",
       "  </tbody>\n",
       "</table>\n",
       "</div>"
      ],
      "text/plain": [
       "                                                text  char_count  has_tsla  \\\n",
       "0  @BillyM2k I find the gold toe sock – inevitabl...         136         0   \n",
       "1                 Sock Con, the conference for socks          34         0   \n",
       "2  Always something new for the magazine cover an...          89         0   \n",
       "3                   @ExplainThisBob This guy gets it          32         0   \n",
       "4  Sock tech is so advanced that you can get pret...          87         0   \n",
       "\n",
       "   has_emoji  exclam_count  is_reply  \n",
       "0          0             0         1  \n",
       "1          0             0         0  \n",
       "2          0             0         0  \n",
       "3          0             0         1  \n",
       "4          0             1         0  "
      ]
     },
     "execution_count": 18,
     "metadata": {},
     "output_type": "execute_result"
    }
   ],
   "source": [
    "features_df[[\"text\", \"char_count\", \"has_tsla\", \"has_emoji\", \"exclam_count\", \"is_reply\"]].head()"
   ]
  },
  {
   "cell_type": "code",
   "execution_count": 19,
   "id": "ec505bd0",
   "metadata": {},
   "outputs": [],
   "source": [
    "features_df.to_csv(\"../data/processed/cleaned_with_features.csv\", index=False)"
   ]
  },
  {
   "cell_type": "code",
   "execution_count": 28,
   "id": "8aa3cdb9",
   "metadata": {},
   "outputs": [
    {
     "name": "stderr",
     "output_type": "stream",
     "text": [
      "[nltk_data] Downloading package vader_lexicon to\n",
      "[nltk_data]     /home/james/nltk_data...\n",
      "[nltk_data]   Package vader_lexicon is already up-to-date!\n"
     ]
    }
   ],
   "source": [
    "import nltk\n",
    "nltk.download(\"vader_lexicon\")\n",
    "from nltk.sentiment import SentimentIntensityAnalyzer\n",
    "sia = SentimentIntensityAnalyzer()\n"
   ]
  },
  {
   "cell_type": "code",
   "execution_count": 31,
   "id": "2e83a508",
   "metadata": {},
   "outputs": [],
   "source": [
    "def add_vader_sentiment(df):\n",
    "    sia = SentimentIntensityAnalyzer()\n",
    "    df[\"vader_sentiment\"] = df[\"text\"].apply(lambda x: sia.polarity_scores(x)[\"compound\"])\n",
    "    return df\n"
   ]
  },
  {
   "cell_type": "code",
   "execution_count": 33,
   "id": "6b0b1f4c",
   "metadata": {},
   "outputs": [],
   "source": [
    "vader_features_df = add_vader_sentiment(features_df)\n",
    "vader_features_df.to_csv(\"../data/processed/vader_features.csv\", index=False)"
   ]
  },
  {
   "cell_type": "code",
   "execution_count": 34,
   "id": "b8fc2bb2",
   "metadata": {},
   "outputs": [
    {
     "name": "stderr",
     "output_type": "stream",
     "text": [
      "/home/james/finance_job/NLP_market_reaction/env/lib/python3.12/site-packages/tqdm/auto.py:21: TqdmWarning: IProgress not found. Please update jupyter and ipywidgets. See https://ipywidgets.readthedocs.io/en/stable/user_install.html\n",
      "  from .autonotebook import tqdm as notebook_tqdm\n",
      "None of PyTorch, TensorFlow >= 2.0, or Flax have been found. Models won't be available and only tokenizers, configuration and file/data utilities can be used.\n",
      "None of PyTorch, TensorFlow >= 2.0, or Flax have been found. Models won't be available and only tokenizers, configuration and file/data utilities can be used.\n"
     ]
    },
    {
     "ename": "ModuleNotFoundError",
     "evalue": "No module named 'torch'",
     "output_type": "error",
     "traceback": [
      "\u001b[31m---------------------------------------------------------------------------\u001b[39m",
      "\u001b[31mModuleNotFoundError\u001b[39m                       Traceback (most recent call last)",
      "\u001b[36mCell\u001b[39m\u001b[36m \u001b[39m\u001b[32mIn[34]\u001b[39m\u001b[32m, line 5\u001b[39m\n\u001b[32m      3\u001b[39m \u001b[38;5;28;01mfrom\u001b[39;00m\u001b[38;5;250m \u001b[39m\u001b[34;01mtransformers\u001b[39;00m\u001b[38;5;250m \u001b[39m\u001b[38;5;28;01mimport\u001b[39;00m AutoTokenizer, AutoModelForSequenceClassification\n\u001b[32m      4\u001b[39m \u001b[38;5;28;01mfrom\u001b[39;00m\u001b[38;5;250m \u001b[39m\u001b[34;01mtransformers\u001b[39;00m\u001b[38;5;250m \u001b[39m\u001b[38;5;28;01mimport\u001b[39;00m pipeline\n\u001b[32m----> \u001b[39m\u001b[32m5\u001b[39m \u001b[38;5;28;01mimport\u001b[39;00m\u001b[38;5;250m \u001b[39m\u001b[34;01mtorch\u001b[39;00m\n\u001b[32m      7\u001b[39m \u001b[38;5;66;03m# Load FinBERT model\u001b[39;00m\n\u001b[32m      8\u001b[39m model_name = \u001b[33m\"\u001b[39m\u001b[33mProsusAI/finbert\u001b[39m\u001b[33m\"\u001b[39m\n",
      "\u001b[31mModuleNotFoundError\u001b[39m: No module named 'torch'"
     ]
    }
   ],
   "source": [
    "#Applying FinBERT\n",
    "\n",
    "from transformers import AutoTokenizer, AutoModelForSequenceClassification\n",
    "from transformers import pipeline\n",
    "import torch\n",
    "\n",
    "# Load FinBERT model\n",
    "model_name = \"ProsusAI/finbert\"\n",
    "tokenizer = AutoTokenizer.from_pretrained(model_name)\n",
    "model = AutoModelForSequenceClassification.from_pretrained(model_name)\n",
    "\n",
    "# Create pipeline\n",
    "finbert = pipeline(\"sentiment-analysis\", model=model, tokenizer=tokenizer)\n",
    "\n",
    "# Apply to a single tweet\n",
    "result = finbert(\"Tesla is going to the moon 🚀\")\n",
    "print(result)\n"
   ]
  }
 ],
 "metadata": {
  "kernelspec": {
   "display_name": "env",
   "language": "python",
   "name": "python3"
  },
  "language_info": {
   "codemirror_mode": {
    "name": "ipython",
    "version": 3
   },
   "file_extension": ".py",
   "mimetype": "text/x-python",
   "name": "python",
   "nbconvert_exporter": "python",
   "pygments_lexer": "ipython3",
   "version": "3.12.3"
  }
 },
 "nbformat": 4,
 "nbformat_minor": 5
}

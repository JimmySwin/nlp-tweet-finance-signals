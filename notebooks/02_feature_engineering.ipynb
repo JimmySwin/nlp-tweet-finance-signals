{
 "cells": [
  {
   "cell_type": "markdown",
   "id": "b1afcd18",
   "metadata": {},
   "source": [
    "# NLP features (sentiment, length, etc.)"
   ]
  }
 ],
 "metadata": {
  "language_info": {
   "name": "python"
  }
 },
 "nbformat": 4,
 "nbformat_minor": 5
}

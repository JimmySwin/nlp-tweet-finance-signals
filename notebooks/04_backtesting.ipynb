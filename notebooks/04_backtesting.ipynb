{
 "cells": [
  {
   "cell_type": "markdown",
   "id": "42e7ae63",
   "metadata": {},
   "source": [
    "# basic PnL / signal test"
   ]
  }
 ],
 "metadata": {
  "language_info": {
   "name": "python"
  }
 },
 "nbformat": 4,
 "nbformat_minor": 5
}

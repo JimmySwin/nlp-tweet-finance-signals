{
 "cells": [
  {
   "cell_type": "markdown",
   "id": "0fadded6",
   "metadata": {},
   "source": [
    "# explore tweet frequency, price reaction"
   ]
  },
  {
   "cell_type": "code",
   "execution_count": 45,
   "id": "4865ced9",
   "metadata": {},
   "outputs": [
    {
     "name": "stdout",
     "output_type": "stream",
     "text": [
      "                    id  user_name user_location           user_description  \\\n",
      "0  1544379368478212100  Elon Musk           NaN  Mars & Cars, Chips & Dips   \n",
      "1  1544377493263720450  Elon Musk           NaN  Mars & Cars, Chips & Dips   \n",
      "2  1544377130590552064  Elon Musk           NaN  Mars & Cars, Chips & Dips   \n",
      "3  1544375575724400645  Elon Musk           NaN  Mars & Cars, Chips & Dips   \n",
      "4  1544375148605853699  Elon Musk           NaN  Mars & Cars, Chips & Dips   \n",
      "\n",
      "                user_created  user_followers  user_friends  user_favourites  \\\n",
      "0  2009-06-02 20:12:29+00:00       101240855           115            13503   \n",
      "1  2009-06-02 20:12:29+00:00       101240806           115            13503   \n",
      "2  2009-06-02 20:12:29+00:00       101240806           115            13503   \n",
      "3  2009-06-02 20:12:29+00:00       101240806           115            13503   \n",
      "4  2009-06-02 20:12:29+00:00       101240806           115            13503   \n",
      "\n",
      "   user_verified                      date  \\\n",
      "0           True 2022-07-05 17:55:09+00:00   \n",
      "1           True 2022-07-05 17:47:42+00:00   \n",
      "2           True 2022-07-05 17:46:15+00:00   \n",
      "3           True 2022-07-05 17:40:05+00:00   \n",
      "4           True 2022-07-05 17:38:23+00:00   \n",
      "\n",
      "                                                text hashtags  \\\n",
      "0  @BillyM2k I find the gold toe sock – inevitabl...      NaN   \n",
      "1                 Sock Con, the conference for socks      NaN   \n",
      "2  Always something new for the magazine cover an...      NaN   \n",
      "3                   @ExplainThisBob This guy gets it      NaN   \n",
      "4  Sock tech is so advanced that you can get pret...      NaN   \n",
      "\n",
      "               source  retweets  favorites  is_retweet  \n",
      "0  Twitter for iPhone       335       6542       False  \n",
      "1  Twitter for iPhone      1451      30753       False  \n",
      "2  Twitter for iPhone      1284      28610       False  \n",
      "3  Twitter for iPhone       131       3640       False  \n",
      "4  Twitter for iPhone      1191      23790       False  \n",
      "        Date       Close        High         Low        Open     Volume\n",
      "0 2022-07-01  227.263336  230.229996  222.119995  227.000000   74460300\n",
      "1 2022-07-05  233.066666  233.146667  216.166672  223.000000   84581100\n",
      "2 2022-07-06  231.733337  234.563339  227.186661  230.779999   71853600\n",
      "3 2022-07-07  244.543335  245.363327  232.210007  233.919998   81930600\n",
      "4 2022-07-08  250.763336  254.979996  241.160004  242.333328  101854200\n"
     ]
    }
   ],
   "source": [
    "##Loading in the data\n",
    "import pandas as pd\n",
    "\n",
    "# Load Musk tweets\n",
    "tweets = pd.read_csv(\"../data/raw/elon_musk_tweets.csv\", parse_dates=[\"date\"])\n",
    "\n",
    "# Load TSLA price data\n",
    "prices = pd.read_csv(\"../data/raw/tsla_ohlcv_daily.csv\", skiprows=2, index_col=0, parse_dates=True)\n",
    "prices.index.name = \"Date\"\n",
    "prices = prices.reset_index()\n",
    "prices.columns = [\"Date\", \"Close\", \"High\", \"Low\", \"Open\", \"Volume\"]\n",
    "\n",
    "\n",
    "# Quick look\n",
    "print(tweets.head())\n",
    "print(prices.head())\n",
    "\n"
   ]
  },
  {
   "cell_type": "code",
   "execution_count": 46,
   "id": "a980d323",
   "metadata": {},
   "outputs": [
    {
     "name": "stdout",
     "output_type": "stream",
     "text": [
      "0   2022-07-05 00:00:00+00:00\n",
      "1   2022-07-05 00:00:00+00:00\n",
      "2   2022-07-05 00:00:00+00:00\n",
      "3   2022-07-05 00:00:00+00:00\n",
      "4   2022-07-05 00:00:00+00:00\n",
      "Name: tweet_day, dtype: datetime64[ns, UTC]\n"
     ]
    }
   ],
   "source": [
    "tweets[\"date\"] = pd.to_datetime(tweets[\"date\"])\n",
    "tweets[\"tweet_day\"] = tweets[\"date\"].dt.floor(\"d\")\n",
    "\n",
    "print(tweets[\"tweet_day\"].head())"
   ]
  },
  {
   "cell_type": "code",
   "execution_count": 47,
   "id": "441fad58",
   "metadata": {},
   "outputs": [
    {
     "name": "stdout",
     "output_type": "stream",
     "text": [
      "        Date       Close        High         Low        Open     Volume  \\\n",
      "0 2022-07-01  227.263336  230.229996  222.119995  227.000000   74460300   \n",
      "1 2022-07-05  233.066666  233.146667  216.166672  223.000000   84581100   \n",
      "2 2022-07-06  231.733337  234.563339  227.186661  230.779999   71853600   \n",
      "3 2022-07-07  244.543335  245.363327  232.210007  233.919998   81930600   \n",
      "4 2022-07-08  250.763336  254.979996  241.160004  242.333328  101854200   \n",
      "\n",
      "   next_close  \n",
      "0  233.066666  \n",
      "1  231.733337  \n",
      "2  244.543335  \n",
      "3  250.763336  \n",
      "4  234.343338  \n"
     ]
    }
   ],
   "source": [
    "# Add the next day close into the table so that we can compair current and next close\n",
    "prices[\"next_close\"] = prices[\"Close\"].shift(-1)\n",
    "print(prices.head())"
   ]
  },
  {
   "cell_type": "code",
   "execution_count": 48,
   "id": "5c3c2df4",
   "metadata": {},
   "outputs": [
    {
     "name": "stdout",
     "output_type": "stream",
     "text": [
      "                    id  user_name user_location           user_description  \\\n",
      "0  1544379368478212100  Elon Musk           NaN  Mars & Cars, Chips & Dips   \n",
      "1  1544377493263720450  Elon Musk           NaN  Mars & Cars, Chips & Dips   \n",
      "2  1544377130590552064  Elon Musk           NaN  Mars & Cars, Chips & Dips   \n",
      "3  1544375575724400645  Elon Musk           NaN  Mars & Cars, Chips & Dips   \n",
      "4  1544375148605853699  Elon Musk           NaN  Mars & Cars, Chips & Dips   \n",
      "\n",
      "                user_created  user_followers  user_friends  user_favourites  \\\n",
      "0  2009-06-02 20:12:29+00:00       101240855           115            13503   \n",
      "1  2009-06-02 20:12:29+00:00       101240806           115            13503   \n",
      "2  2009-06-02 20:12:29+00:00       101240806           115            13503   \n",
      "3  2009-06-02 20:12:29+00:00       101240806           115            13503   \n",
      "4  2009-06-02 20:12:29+00:00       101240806           115            13503   \n",
      "\n",
      "   user_verified                      date  ... favorites is_retweet  \\\n",
      "0           True 2022-07-05 17:55:09+00:00  ...      6542      False   \n",
      "1           True 2022-07-05 17:47:42+00:00  ...     30753      False   \n",
      "2           True 2022-07-05 17:46:15+00:00  ...     28610      False   \n",
      "3           True 2022-07-05 17:40:05+00:00  ...      3640      False   \n",
      "4           True 2022-07-05 17:38:23+00:00  ...     23790      False   \n",
      "\n",
      "   tweet_day       Date       Close        High         Low   Open    Volume  \\\n",
      "0 2022-07-05 2022-07-05  233.066666  233.146667  216.166672  223.0  84581100   \n",
      "1 2022-07-05 2022-07-05  233.066666  233.146667  216.166672  223.0  84581100   \n",
      "2 2022-07-05 2022-07-05  233.066666  233.146667  216.166672  223.0  84581100   \n",
      "3 2022-07-05 2022-07-05  233.066666  233.146667  216.166672  223.0  84581100   \n",
      "4 2022-07-05 2022-07-05  233.066666  233.146667  216.166672  223.0  84581100   \n",
      "\n",
      "   next_close  \n",
      "0  231.733337  \n",
      "1  231.733337  \n",
      "2  231.733337  \n",
      "3  231.733337  \n",
      "4  231.733337  \n",
      "\n",
      "[5 rows x 24 columns]\n"
     ]
    }
   ],
   "source": [
    "tweets[\"tweet_day\"] = tweets[\"tweet_day\"].dt.tz_localize(None)\n",
    "merged = pd.merge(tweets, prices, left_on=\"tweet_day\", right_on=\"Date\", how=\"inner\")\n",
    "print(merged.head())"
   ]
  },
  {
   "cell_type": "code",
   "execution_count": 51,
   "id": "d0e81a95",
   "metadata": {},
   "outputs": [
    {
     "name": "stdout",
     "output_type": "stream",
     "text": [
      "                       date  \\\n",
      "0 2022-07-05 17:55:09+00:00   \n",
      "1 2022-07-05 17:47:42+00:00   \n",
      "2 2022-07-05 17:46:15+00:00   \n",
      "3 2022-07-05 17:40:05+00:00   \n",
      "4 2022-07-05 17:38:23+00:00   \n",
      "\n",
      "                                                text  tweet_day       Date  \\\n",
      "0  @BillyM2k I find the gold toe sock – inevitabl... 2022-07-05 2022-07-05   \n",
      "1                 Sock Con, the conference for socks 2022-07-05 2022-07-05   \n",
      "2  Always something new for the magazine cover an... 2022-07-05 2022-07-05   \n",
      "3                   @ExplainThisBob This guy gets it 2022-07-05 2022-07-05   \n",
      "4  Sock tech is so advanced that you can get pret... 2022-07-05 2022-07-05   \n",
      "\n",
      "    Open       Close  next_close  \n",
      "0  223.0  233.066666  231.733337  \n",
      "1  223.0  233.066666  231.733337  \n",
      "2  223.0  233.066666  231.733337  \n",
      "3  223.0  233.066666  231.733337  \n",
      "4  223.0  233.066666  231.733337  \n"
     ]
    }
   ],
   "source": [
    "cleaned = merged[[\"date\", \"text\", \"tweet_day\", \"Date\", \"Open\", \"Close\", \"next_close\"]].copy()\n",
    "print(cleaned.head())"
   ]
  },
  {
   "cell_type": "code",
   "execution_count": 53,
   "id": "6792d508",
   "metadata": {},
   "outputs": [
    {
     "name": "stdout",
     "output_type": "stream",
     "text": [
      "                       date  \\\n",
      "0 2022-07-05 17:55:09+00:00   \n",
      "1 2022-07-05 17:47:42+00:00   \n",
      "2 2022-07-05 17:46:15+00:00   \n",
      "3 2022-07-05 17:40:05+00:00   \n",
      "4 2022-07-05 17:38:23+00:00   \n",
      "\n",
      "                                                text  tweet_day       Date  \\\n",
      "0  @BillyM2k I find the gold toe sock – inevitabl... 2022-07-05 2022-07-05   \n",
      "1                 Sock Con, the conference for socks 2022-07-05 2022-07-05   \n",
      "2  Always something new for the magazine cover an... 2022-07-05 2022-07-05   \n",
      "3                   @ExplainThisBob This guy gets it 2022-07-05 2022-07-05   \n",
      "4  Sock tech is so advanced that you can get pret... 2022-07-05 2022-07-05   \n",
      "\n",
      "    Open       Close  next_close  next_day_return  label  \n",
      "0  223.0  233.066666  231.733337        -0.005721      0  \n",
      "1  223.0  233.066666  231.733337        -0.005721      0  \n",
      "2  223.0  233.066666  231.733337        -0.005721      0  \n",
      "3  223.0  233.066666  231.733337        -0.005721      0  \n",
      "4  223.0  233.066666  231.733337        -0.005721      0  \n"
     ]
    }
   ],
   "source": [
    "#adding in the logic to have an index indicating if the price went up or down that day\n",
    "cleaned[\"next_day_return\"] = (cleaned[\"next_close\"] - cleaned[\"Close\"]) / cleaned[\"Close\"]\n",
    "cleaned[\"label\"] = (cleaned[\"next_day_return\"] > 0).astype(int)\n",
    "\n",
    "print(cleaned.head())"
   ]
  },
  {
   "cell_type": "code",
   "execution_count": null,
   "id": "3dd8e59d",
   "metadata": {},
   "outputs": [],
   "source": []
  }
 ],
 "metadata": {
  "kernelspec": {
   "display_name": "env",
   "language": "python",
   "name": "python3"
  },
  "language_info": {
   "codemirror_mode": {
    "name": "ipython",
    "version": 3
   },
   "file_extension": ".py",
   "mimetype": "text/x-python",
   "name": "python",
   "nbconvert_exporter": "python",
   "pygments_lexer": "ipython3",
   "version": "3.12.3"
  }
 },
 "nbformat": 4,
 "nbformat_minor": 5
}

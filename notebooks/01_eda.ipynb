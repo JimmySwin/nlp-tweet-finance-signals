{
 "cells": [
  {
   "cell_type": "markdown",
   "id": "0fadded6",
   "metadata": {},
   "source": [
    "# explore tweet frequency, price reaction"
   ]
  },
  {
   "cell_type": "code",
   "execution_count": null,
   "id": "4865ced9",
   "metadata": {},
   "outputs": [
    {
     "name": "stdout",
     "output_type": "stream",
     "text": [
      "                    id  user_name user_location           user_description  \\\n",
      "0  1544379368478212100  Elon Musk           NaN  Mars & Cars, Chips & Dips   \n",
      "1  1544377493263720450  Elon Musk           NaN  Mars & Cars, Chips & Dips   \n",
      "2  1544377130590552064  Elon Musk           NaN  Mars & Cars, Chips & Dips   \n",
      "3  1544375575724400645  Elon Musk           NaN  Mars & Cars, Chips & Dips   \n",
      "4  1544375148605853699  Elon Musk           NaN  Mars & Cars, Chips & Dips   \n",
      "\n",
      "                user_created  user_followers  user_friends  user_favourites  \\\n",
      "0  2009-06-02 20:12:29+00:00       101240855           115            13503   \n",
      "1  2009-06-02 20:12:29+00:00       101240806           115            13503   \n",
      "2  2009-06-02 20:12:29+00:00       101240806           115            13503   \n",
      "3  2009-06-02 20:12:29+00:00       101240806           115            13503   \n",
      "4  2009-06-02 20:12:29+00:00       101240806           115            13503   \n",
      "\n",
      "   user_verified                      date  \\\n",
      "0           True 2022-07-05 17:55:09+00:00   \n",
      "1           True 2022-07-05 17:47:42+00:00   \n",
      "2           True 2022-07-05 17:46:15+00:00   \n",
      "3           True 2022-07-05 17:40:05+00:00   \n",
      "4           True 2022-07-05 17:38:23+00:00   \n",
      "\n",
      "                                                text hashtags  \\\n",
      "0  @BillyM2k I find the gold toe sock – inevitabl...      NaN   \n",
      "1                 Sock Con, the conference for socks      NaN   \n",
      "2  Always something new for the magazine cover an...      NaN   \n",
      "3                   @ExplainThisBob This guy gets it      NaN   \n",
      "4  Sock tech is so advanced that you can get pret...      NaN   \n",
      "\n",
      "               source  retweets  favorites  is_retweet  \n",
      "0  Twitter for iPhone       335       6542       False  \n",
      "1  Twitter for iPhone      1451      30753       False  \n",
      "2  Twitter for iPhone      1284      28610       False  \n",
      "3  Twitter for iPhone       131       3640       False  \n",
      "4  Twitter for iPhone      1191      23790       False  \n",
      "        Date  Unnamed: 1  Unnamed: 2  Unnamed: 3  Unnamed: 4  Unnamed: 5\n",
      "0 2022-07-01  227.263336  230.229996  222.119995  227.000000    74460300\n",
      "1 2022-07-05  233.066666  233.146667  216.166672  223.000000    84581100\n",
      "2 2022-07-06  231.733337  234.563339  227.186661  230.779999    71853600\n",
      "3 2022-07-07  244.543335  245.363327  232.210007  233.919998    81930600\n",
      "4 2022-07-08  250.763336  254.979996  241.160004  242.333328   101854200\n"
     ]
    }
   ],
   "source": [
    "##Loading in the data\n",
    "import pandas as pd\n",
    "\n",
    "# Load Musk tweets\n",
    "tweets = pd.read_csv(\"../data/raw/elon_musk_tweets.csv\", parse_dates=[\"date\"])\n",
    "\n",
    "# Load TSLA price data\n",
    "prices = pd.read_csv(\"../data/raw/tsla_ohlcv_daily.csv\", skiprows=2, index_col=0, parse_dates=True)\n",
    "prices.index.name = \"Date\"\n",
    "prices = prices.reset_index()\n",
    "\n",
    "# Quick look\n",
    "print(tweets.head())\n",
    "print(prices.head())\n",
    "\n"
   ]
  }
 ],
 "metadata": {
  "kernelspec": {
   "display_name": "env",
   "language": "python",
   "name": "python3"
  },
  "language_info": {
   "codemirror_mode": {
    "name": "ipython",
    "version": 3
   },
   "file_extension": ".py",
   "mimetype": "text/x-python",
   "name": "python",
   "nbconvert_exporter": "python",
   "pygments_lexer": "ipython3",
   "version": "3.12.3"
  }
 },
 "nbformat": 4,
 "nbformat_minor": 5
}
